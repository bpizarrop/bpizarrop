{
 "cells": [
  {
   "cell_type": "code",
   "execution_count": 2,
   "id": "57170954",
   "metadata": {},
   "outputs": [],
   "source": [
    "%matplotlib inline\n",
    "import pandas as pd"
   ]
  },
  {
   "cell_type": "code",
   "execution_count": 3,
   "id": "6d0b5e0e",
   "metadata": {},
   "outputs": [],
   "source": [
    "compras_df = pd.read_csv('data/clean_compras.csv')"
   ]
  },
  {
   "cell_type": "code",
   "execution_count": 4,
   "id": "f3c03c33",
   "metadata": {},
   "outputs": [
    {
     "data": {
      "text/plain": [
       "NUM BEN           int64\n",
       "BENEFICIARIO     object\n",
       "RFC              object\n",
       "FACTURA          object\n",
       "CONTRATO         object\n",
       "CONCEPTO         object\n",
       "TIPO             object\n",
       "# OP            float64\n",
       "FECHA            object\n",
       "IMPORTE         float64\n",
       "SHEET            object\n",
       "dtype: object"
      ]
     },
     "execution_count": 4,
     "metadata": {},
     "output_type": "execute_result"
    }
   ],
   "source": [
    "compras_df.dtypes"
   ]
  },
  {
   "cell_type": "markdown",
   "id": "64b22fb8",
   "metadata": {},
   "source": [
    "## Empezamos con una expansion de datos que tenemos, fecha por ejemplo"
   ]
  },
  {
   "cell_type": "code",
   "execution_count": 5,
   "id": "53ae446e",
   "metadata": {},
   "outputs": [],
   "source": [
    "compras_df['FECHA'] = pd.to_datetime(compras_df['FECHA'])"
   ]
  },
  {
   "cell_type": "code",
   "execution_count": 6,
   "id": "e3795b33",
   "metadata": {},
   "outputs": [],
   "source": [
    "compras_df['DIA'] = compras_df['FECHA'].apply(lambda x: x.day)"
   ]
  },
  {
   "cell_type": "code",
   "execution_count": 7,
   "id": "81986fd0",
   "metadata": {},
   "outputs": [],
   "source": [
    "compras_df['MES'] = compras_df['FECHA'].apply(lambda x: x.month)"
   ]
  },
  {
   "cell_type": "code",
   "execution_count": 8,
   "id": "12501112",
   "metadata": {},
   "outputs": [],
   "source": [
    "compras_df['ANO'] = compras_df['FECHA'].apply(lambda x: x.year)"
   ]
  },
  {
   "cell_type": "markdown",
   "id": "49d0bd68",
   "metadata": {},
   "source": [
    "## Proyectemos unas variables contra otras"
   ]
  },
  {
   "cell_type": "code",
   "execution_count": 9,
   "id": "df66fb7e",
   "metadata": {},
   "outputs": [],
   "source": [
    "beneficiario_sales = compras_df['BENEFICIARIO'].value_counts().to_dict()"
   ]
  },
  {
   "cell_type": "code",
   "execution_count": 32,
   "id": "dcae9f2f",
   "metadata": {},
   "outputs": [
    {
     "data": {
      "text/plain": [
       "{'CAMARA MEXICANA DE LA INDUSTRIA DE LA CONSTRUCCION': 266,\n",
       " 'AUTOKAM REGIOMONTANA,S.A.DE C.V.': 101,\n",
       " 'CAR ONE MONTERREY, S.A. DE C.V.': 78,\n",
       " 'PEREZ RIOS RAMIRO': 58,\n",
       " 'S.I.M.E.P.R.O.D.E.': 50,\n",
       " 'INTERASFALTOS, S.A. DE C.V.': 45,\n",
       " 'GRUPO COYOTE MONTERREY, S.A. DE C.V.': 43,\n",
       " 'SERVICIO TECNICO CHURUBUSCO, S.A. DE C.V.': 30,\n",
       " 'CFE SUMINISTRADOR DE SERVICIOS BASICOS': 29,\n",
       " 'CORDERO MACIAS SILVESTRE GUADALUPE': 27,\n",
       " 'SIERRA MADRE RACING, S.A. DE C.V.': 21,\n",
       " 'CLIMEEZ DEL NORTE,S.A.DE C.V.': 21,\n",
       " 'GS GAS Q, S.A. DE C.V.': 18,\n",
       " 'INMOBILIARIA ESTRUCTURAL, S.A. DE C.V.': 18,\n",
       " 'SECRETARIA DE FINANZAS Y TESORERIA GRAL DEL EDO DE NL': 18,\n",
       " 'GARCIA ZAVALA EDGAR ALEJANDRO JOBERAGAN': 17,\n",
       " 'MUNICIPIO DE LA CIUDAD DE MONTERREY': 16,\n",
       " 'SI VALE MEXICO, S.A. DE C.V.': 16,\n",
       " 'MOTOR DEAL, S.A. DE C.V.': 15,\n",
       " 'VALUE ARRENDADORA,S.A.DE C.V. SOFOM ER VALUE GPO.FIN.': 14,\n",
       " 'LLANTAS Y SERVICIOS SERNA ANAHUAC,S.A. DE C.V.': 13,\n",
       " 'MILENIO DIARIO, S.A. DE C.V.': 12,\n",
       " 'REGIO ASFALTOS Y CONCRETOS, SA. DE CV.': 11,\n",
       " 'PICO INFRAESTRUCTURA URBANA, SA. DE CV.': 10,\n",
       " 'CEREZO TORRES RAUL': 9,\n",
       " 'OPERBES, S.A. DE C.V.': 9,\n",
       " 'GARIBALDI FRECH MARCELO ANDRES': 9,\n",
       " 'PRAXAIR MEXICO S. DE R.L. DE C.V.': 8,\n",
       " 'CHAPA RIOS RAUL': 8,\n",
       " 'SEGUROS BANORTE, S.A. DE C.V. GRUPO FINANCIERO BANORTE': 8,\n",
       " 'DISTRIBUIDORA DE FRUTAS Y LEGUMBRES LA HORTALIZA,S.A.DE C.V.': 8,\n",
       " 'MANUFACTURAS RECOVERY, S.A. DE C.V.': 8,\n",
       " 'CAR ONE AMERICANA,S.A.DE C.V.': 7,\n",
       " 'RAMIREZ VERASTEGUI ISIDRO RAMON': 6,\n",
       " 'SERVICIOS DE AGUA Y DRENAJE DE MONTERREY, IPD.': 6,\n",
       " 'STEREOREY MEXICO, S.A.': 6,\n",
       " 'NUCLEO RADIO MONTERREY,S.A.DE C.V.': 6,\n",
       " 'INFRAESTRUCTURA MQ, SA. DE CV.': 6,\n",
       " 'CONSTRUCCIONES DYNAMO, SA. DE CV.': 6,\n",
       " 'SERVICIO GAS LINCOLN, S.A. DE C.V.': 5,\n",
       " 'EMPACADORA Y DISTR.DE CARNES FINAS SAN JUAN,S.A.DE C.V.': 5,\n",
       " 'INTEGRACION DE SISTEMAS DE AVANZADA TECNOLOGIA, S.A. DE C.V.': 5,\n",
       " 'INSTITUTO ESTATAL DE CIENCIAS PENALES Y SEGURIDAD PUBLICA': 5,\n",
       " 'GASOLINERA NUEVO LEON, S.A. DE C.V.': 5,\n",
       " 'S.U.T.S.M.M.': 4,\n",
       " 'TRACTORES Y MAQUINARIA REAL, S.A. DE C.V.': 4,\n",
       " 'CONSTRUCTORA Y ARRENDADORA SAN SEBASTIAN, SA. DE CV.': 4,\n",
       " 'PENSIONES Y JUBILACIONES EMPL. MONTERREY': 4,\n",
       " 'PINEDA OSORIO JOSE NAZARIO': 4,\n",
       " 'MAGENTA MULTIMEDIA, S.A.P.I. DE C.V.': 4,\n",
       " 'MELCHOR GUERRERO PERLA GUADALUPE': 4,\n",
       " 'CONSTRUCCION Y DIRECCION DE OBRA AM, SA. DE CV.': 4,\n",
       " 'RECYMET SERVICIOS DE MEXICO, S.A. DE C.V.': 4,\n",
       " 'DESARROLLOS MAFERSA, SA. DE CV.': 4,\n",
       " 'SEGUROS AFIRME, S.A. DE C.V. AFIRME GRUPO FINANCIERO': 4,\n",
       " 'MAYORGA CONSULTORES, S.C.': 4,\n",
       " 'SCRIPTAMTY, S.A. DE C.V.': 4,\n",
       " 'GAS HUINALA, S.A. DE C.V.': 4,\n",
       " 'HUAJUCO CONSTRUCCIONES, S.A. DE C.V.': 4,\n",
       " 'MULTIMEDIOS, S.A. DE C.V.': 4,\n",
       " 'BUFETE URBANISTICO, S.A. DE C.V.': 4,\n",
       " 'HEGV INDUSTRIAL, S.A. DE C.V.': 4,\n",
       " 'BS CAR SERVICES, S.A. DE C.V.': 4,\n",
       " 'PT CAR CENTER, S.A. DE C.V.': 4,\n",
       " 'TV DE LOS MOCHIS,S.A.DE C.V.': 4,\n",
       " 'GUERRERO SEGURA NESTOR': 4,\n",
       " 'PROVEEDORA PARA LA CONSTRUCCION REGIOMONTANA, S.A. DE C.V.': 4,\n",
       " 'ABC Y CONSTRUCCIONES, SA. DE CV.': 4,\n",
       " 'TELEFONOS DE MEXICO,S.A.B DE C.V.': 4,\n",
       " 'PROYECTOS Y DESARROLLOS SALVE, SA. DE CV.': 3,\n",
       " 'CONSTRUCCIONES PAVIMENTO Y EDIFICACIONES COPESA, S.A. DE C.V.': 3,\n",
       " 'CONSORCIO CONSTRUCTIVO Y PROYECTOS, SA. DE CV.': 3,\n",
       " 'CHUBB SEGUROS MEXICO, S.A.': 3,\n",
       " 'CENTRO DE ATENCION, PREVENCION Y SEGURIDAD SOCIAL, S.C.': 3,\n",
       " 'SISTEMEDIOS, S.A. DE C.V.': 3,\n",
       " 'DECO SEGUROS, SA. DE CV.': 3,\n",
       " 'DOMENE ZAMBRANO MARIA DEL ROCIO': 3,\n",
       " 'EMERGENCIA MEDICA PROFESIONAL, S.C.': 3,\n",
       " 'CKT EDIFICACIONES, SA. DE CV.': 3,\n",
       " 'IMPULSORA PROMOBIEN, SA. DE CV.': 3,\n",
       " 'UNIVERSAL DE SERVICIOS PATRIMONIALES, SAPI DE CV SOFOM ENR': 3,\n",
       " 'SEGUROS VE POR MAS, SA. GRUPO FINANCIERO VE POR MAS': 3,\n",
       " 'SEGUROS ARGOS, SA. DE CV.': 3,\n",
       " 'METLIFE MEXICO, S.A.': 3,\n",
       " 'BIENES AW, S.A. DE C.V.': 3,\n",
       " 'F/4086906 BBVA BANCOMER, SA.': 3,\n",
       " 'BUILDTECH PAVIMENTOS ESTAMPADOS Y CONSTRUCCIONES, SA. DE CV.': 3,\n",
       " 'VERBO LIBRE EDITORES, S.A. DE C.V.': 3,\n",
       " 'INFRAESTRUCTURA Y CONSTRUCCIONES GARCIA, SA. DE CV.': 3,\n",
       " 'CONSTRUCTORA POLITEZZA, SA. DE CV.': 3,\n",
       " 'ARQUITECTURA E INGENIERIA 2000, SA. DE CV.': 3,\n",
       " 'GAS GARZA SADA, S.A. DE C.V.': 3,\n",
       " 'CONSTRUCTORA XILOFACTOS, S.A. DE C.V.': 3,\n",
       " 'TEAM ONE 2018, S.A. DE C.V.': 3,\n",
       " 'MERCANTIL DISTRIBUIDORA, S.A. DE C.V.': 3,\n",
       " 'PATRIMONIO S.A. DE C.V. SOFOM ENR': 3,\n",
       " 'INVESTMENT CAPITAL PARTNERS, S.A. DE C.V.': 3,\n",
       " 'VILLARREAL CARDENAS NANCY ESTHER': 2,\n",
       " 'VALLEJO RAMOS JUAN MANUEL': 2,\n",
       " 'BIOANALISIS Y SERVICIOS HEMATOLOGICOS , S.A. DE C.V.': 2,\n",
       " 'GUAJARDO Y ASOCS.CONSTRUCTORA, S.A. DE CV.': 2,\n",
       " 'SEGOVIA PAEZ MARCELO': 2,\n",
       " 'EQUIPOS Y ACCESORIOS CANTU, S.A. DE C.V.': 2,\n",
       " 'SERVICIOS DE AGUA DLO, SA. DE CV.': 2,\n",
       " 'LINARES TORRES FERNANDO MANUEL': 2,\n",
       " 'SOLUCION ARTE EN CONSTRUCCION, SA. DE CV.': 2,\n",
       " 'URBANIZACIONES AGV, S.A. DE C.V.': 2,\n",
       " 'CONSTRUCTORA Y COMERCIALIZADORA IMPERIAL, SA DE CV.': 2,\n",
       " 'EOLICA SANTA CATARINA, S. DE R.L. DE C.V.': 2,\n",
       " 'HTR INFRAESTRUCTURA, SA. DE CV.': 2,\n",
       " 'GONZALEZ GARZA ROSA LILA': 2,\n",
       " 'ORTIZ MONTOYA HUGO': 2,\n",
       " 'GH MAQUINARIA Y EQUIPO, S.A.DE C.V.': 2,\n",
       " 'RICE OBRAS, SA. DE CV.': 2,\n",
       " 'CERECERO MEDINA ZULLY JANETT': 2,\n",
       " 'INMOBILIARIA HFM, S.A. DE C.V.': 2,\n",
       " '235 PROYECTOS, S.A. DE C.V.': 2,\n",
       " 'GONZALEZ CANTU ALEXANDRO': 2,\n",
       " 'ESPINOSA RODRIGUEZ MARIA JOSE': 2,\n",
       " 'GARCIA NACIANCENO FELIX MANUEL': 2,\n",
       " 'GODOY SANCHEZ RICARDO': 2,\n",
       " 'CONSTRUCCIONES Y MANTENIMIENTO GAME, SA. DE CV.': 2,\n",
       " 'SERVICIOS BROXEL, S.A.P.I. DE C.V.': 2,\n",
       " 'BOMBEROS DE NUEVO LEON, A.B.P.': 2,\n",
       " 'GONZALEZ AGUILERA CRISTINA MIROSLAVA': 2,\n",
       " 'LOZANO CAVAZOS REYNALDO RAMON': 2,\n",
       " 'PAEZ YRIGOYEN MARIA DE LOURDES': 2,\n",
       " 'GARZA TREVIÑO JOSE MARIA': 2,\n",
       " 'RODRIGUEZ JUAREZ DANIELA BERENICE': 2,\n",
       " 'BENAVIDES GONZALEZ LAURA ELENA': 2,\n",
       " 'RAMOS MARROQUIN FRANCISCO JAVIER': 2,\n",
       " 'NATURGY MEXICO, S.A. DE C.V.': 2,\n",
       " 'RAMOS DE LA GARZA RAFAEL EDUARDO': 2,\n",
       " 'MARQUEZ GOMEZ ISAI': 2,\n",
       " 'ORDAZ ARANJO JOSE ANTONIO': 2,\n",
       " 'SUPERMERCADOS INTERNACIONALES HEB, S.A. DE C.V.': 2,\n",
       " 'OVIEDO RODRIGUEZ MARILU': 2,\n",
       " 'M58, S.A. DE C.V.': 2,\n",
       " 'ASOCIACION DE COLONOS CONTRY LA SILLA A.C.': 2,\n",
       " 'BANCO MULTIVA, SA. G.F.M.': 2,\n",
       " 'CYAN MEDIA LAB, S.A. DE C.V.': 2,\n",
       " 'BENITES VALDES JOSE LUCIO': 2,\n",
       " 'ESPECIALIDADES MEDICAS INTERNACIONALES Y EQUIPO MEDICO SA': 2,\n",
       " 'PUBLIGAB COMUNICACIONES, S.A. DE C.V.': 2,\n",
       " 'LOGOMUNDO, S.A. DE C.V.': 2,\n",
       " 'ARRIAGA PEREZ ROCIO JAZMIN': 2,\n",
       " 'INDUSTRIAS SOLA BASIC, S.A. DE C.V.': 2,\n",
       " 'GUERRERO MARTINEZ EDGAR FEDERICO': 2,\n",
       " 'BRANDI ELGUEZABAL MARCELO': 2,\n",
       " 'BRAVO GARZA CARLOS ALBERTO': 2,\n",
       " 'INTERLAMPARAS, S.A. DE C.V.': 2,\n",
       " 'BRAVO MENDOZA JOEL': 2,\n",
       " 'RTV & PRESS NEWS,S.A.DE C.V': 2,\n",
       " 'TREVIÑO ELIZONDO JOSE HUMBERTO': 2,\n",
       " 'UNION POR EL DESARROLLO DE CORAZONES MEXICANOS, A.C.': 2,\n",
       " 'EDIFICACIONES Y TERRACERIAS DEL NORTE, S.A. DE C.V.': 2,\n",
       " 'RAMIREZ PEÑA ALEJANDRO': 2,\n",
       " 'ADQUISICIONES INTELIGENTES, S.A. DE C.V.': 2,\n",
       " 'GOBIERNO DEL ESTADO DE DURANGO': 2,\n",
       " 'INFONACOT': 2,\n",
       " 'RODRIGUEZ MORALES CYNTHIA ESTHER': 2,\n",
       " 'CONTRERAS MONSIVAIS DANIEL': 2,\n",
       " 'UNIVERSIDAD REGIOMONTANA, A.C.': 2,\n",
       " 'TORRES ACOSTA ROBERTO CARLOS': 2,\n",
       " 'CONSTRUCTORA MAIZ MIER,S.A. DE C.V.': 2,\n",
       " 'VAZQUEZ FLORES ELVIRA': 2,\n",
       " 'TREVIÑO YAÑEZ JOSE HUMBERTO': 2,\n",
       " 'MANAGEMENT TECHNOLOGY INNOVATIONS, S.C.': 1,\n",
       " 'URBANISMOS ROSALES, SA. DE CV.': 1,\n",
       " 'GARCIA GONZALEZ ARTURO': 1,\n",
       " 'AYALA SALAZAR GABRIEL': 1,\n",
       " 'MORENO GARCIA JOSE ARTURO': 1,\n",
       " 'SANCHEZ HERNANDEZ SEBASTIAN': 1,\n",
       " 'UNIVERSIDAD AUTONOMA DE NUEVO LEON': 1,\n",
       " 'CELEDONIO BECERRA JUAN MIGUEL': 1,\n",
       " 'CORTES SANCHEZ VICTOR MANUEL': 1,\n",
       " 'CONSTRUCCIONES Y URBANIZACIONES DEL PONIENTE, SA. DE CV.': 1,\n",
       " 'GALVAN GUERRERO ANDRES': 1,\n",
       " 'GAMEZ RODRIGUEZ PABLO': 1,\n",
       " 'VARGAS GARCIA ALHINNA BERENICE': 1,\n",
       " 'CONSTRUCTORA LAZO, S.DE RL. DE CV.': 1,\n",
       " 'SANCHEZ DAVILA GERARDO RAUL': 1,\n",
       " 'ORTEGA VAZQUEZ ANDRES JAIME': 1,\n",
       " 'VILLARREAL CARDENAS JUAN IGNACIO': 1,\n",
       " 'VELEZ VALDES ALBERTO': 1,\n",
       " 'DESARROLLO CONSTRUCTIVO Y URBANISTICO, SA. DE CV.': 1,\n",
       " 'INTEGRACION TECNOLOGICA FISCAL, S. DE RL DE C.V.': 1,\n",
       " 'MONQ CONSTRUCTORES, SA. DE CV.': 1,\n",
       " 'INSTITUTO MUNICIPAL DE LAS MUJERES REGIAS': 1,\n",
       " 'ZAPATA CHAVIRA HOMERO ARTURO': 1,\n",
       " 'HERNANDEZ SOTO BRENDA NATALIA': 1,\n",
       " 'ARMOR LIFE LAB, S.A. DE C.V.': 1,\n",
       " 'MIJANGOS DE JESUS FERNANDO': 1,\n",
       " 'EDDS MANTENIMIENTO, S.A. DE C.V.': 1,\n",
       " 'CONSTRUCTORA JOMABE, SA. DE CV.': 1,\n",
       " 'DESARROLLO Y CONSTRUCCIONES URBANAS, S.A. DE C.V.': 1,\n",
       " 'G&B SOLUTIONS, S.A. DE C.V.': 1,\n",
       " 'INSTITUTO DE INV.INNOV.Y EST.DE POSG.P/LA EDU.DEL EDO DE NL.': 1,\n",
       " 'VARGAS ANTILLON MARCOS': 1,\n",
       " 'PAVIMENTOS Y CONSTRUCCIONES GARCAN, SA. DE CV.': 1,\n",
       " 'BANCO MERCANTIL DEL NORTE S.A. IBM GFB': 1,\n",
       " 'GRUPO PRO CREA, S.A. DE C.V.': 1,\n",
       " 'EDIFICIOS DIANA DEL NORTE, S.A. DE C.V.': 1,\n",
       " 'CANTU LOGISTICS, S.A. DE C.V.': 1,\n",
       " 'CANTU ELIZONDO DANIELA': 1,\n",
       " 'HOSP.UNIVERSITARIO DR.JOSE E.GONZALEZ': 1,\n",
       " 'BANCO BANCREA,S.A. ,FIDEICOMISO NUMERO BP417': 1,\n",
       " 'FIDEICOMISO DISTRITO TEC NUM-1718': 1,\n",
       " 'CIUDADANOS EN APOYO A LOS DERECHOS HUMANOS, AC.': 1,\n",
       " 'LOZANO SADA MARIA AMALIA': 1,\n",
       " 'CENTRO INTERNACIONAL DE NEGOCIOS MONTERREY, A.C.': 1,\n",
       " 'MUSEO DE ARTE CONTEMPORANEO DE MONTERREY, AC.': 1,\n",
       " 'M.S. COMERCIALIZADORA E IMPORTADORA, S.A. DE C.V.': 1,\n",
       " 'ACEROS Y OVEROLLINGS DE MEXICO, SA. DE CV.': 1,\n",
       " 'AUTO CENTRO CAMIONERO, SA. DE CV.': 1,\n",
       " 'CENICEROS GARCIA MARIA MAGDALENA': 1,\n",
       " 'CERVEZAS CUAUHTEMOC MOCTEZUMA, SA. DE CV.': 1,\n",
       " 'CINEPOLIS DE MEXICO,S.A. DE C.V.': 1,\n",
       " 'ECOTAXI DE MONTERREY, SA. DE CV.': 1,\n",
       " 'GOMEZ MEJIA ELSA MARIA': 1,\n",
       " 'GONZALEZ VAZQUEZ EDGAR CECILIO': 1,\n",
       " 'IIRSACERO, SA. DE CV.': 1,\n",
       " 'LAS CERVEZAS MODELO EN NUEVO LEON, SA. DE CV.': 1,\n",
       " 'ANGIO MEDICAL, S.A. DE C.V.': 1,\n",
       " 'PINEDA GUERRERO OSCAR': 1,\n",
       " 'RAR SMART NETWORKS, S.A. DE C.V.': 1,\n",
       " 'NAUDIN WILLIAMS JORGE TOMAS': 1,\n",
       " 'PLOMIFERRETERA EL TORNILLO, S.A. DE C.V.': 1,\n",
       " 'COMERCIALIZADORA HNOS.ALVAREZ FLORES,S.A.DE C.V.': 1,\n",
       " 'NUÑEZ LOPEZ VIRGINIA': 1,\n",
       " 'GRANA,S.A.': 1,\n",
       " 'CLUB INTERNACIONAL DE MONTERREY,A.C.': 1,\n",
       " 'VIVERO EL ESCORIAL, S.A. DE C.V.': 1,\n",
       " 'MANTENIMIENTO ELECTRICO DE POTENCIA,S.A.DE C.V.': 1,\n",
       " 'DESARROLLOS CONSTRUCTIVOS NACIONALES,S.A.DE C.V.': 1,\n",
       " 'SUAREZ MOBILIARIO INTERNACIONAL,S.A.DE C.V.': 1,\n",
       " 'FORTE COMUNICACIONES,S.A.DE C.V.': 1,\n",
       " 'DESARROLLOS HUINALA, S.A. DE C.V.': 1,\n",
       " 'LARRALDE LAGUERA MARGARITA': 1,\n",
       " 'SALAZAR GARZA ADRIANA': 1,\n",
       " 'FULL TECHNOLOGY, S.A. DE C.V.': 1,\n",
       " 'COLLENZI COLONNELLO CLARISSA': 1,\n",
       " 'SAG GRUPO AUTOMOTRIZ, S.A. DE C.V.': 1,\n",
       " 'SAMPOGNA GARZA JESUS IGNACIO': 1,\n",
       " 'CONSTRUCTORA NEG, S.A. DE C.V.': 1,\n",
       " 'MALDONADO GONZALEZ ARTURO GUILLERMO': 1,\n",
       " 'VG MAYOREO DE MONTERREY, S.A. DE C.V.': 1,\n",
       " 'DESARROLLOS INMOBILIARIOS JAJEMI, S.A. DE C.V.': 1,\n",
       " 'GRANTE INMOBILIARIA, S.A. DE C.V.': 1,\n",
       " 'MARCATEL COM, SA. DE CV.': 1,\n",
       " 'NERI SANCHEZ MARCELO': 1,\n",
       " 'PATENA PUENTE LORENA MIREYA': 1,\n",
       " 'TELLEZ ZOLEZZI CARLOS ALBERTO': 1,\n",
       " 'CORONEL GONZALEZ MARIA LUISA': 1,\n",
       " 'FLORES ROBLEDO GUADALUPE CONCEPCION': 1,\n",
       " 'LARA SEGURA SINDY  MELIZA': 1,\n",
       " 'RAMIREZ CUELLAR JONATHAN JOSHUA': 1,\n",
       " 'RIOS GOMEZ YENNIFER ITZEL': 1,\n",
       " 'HERNANDEZ JIMENEZ EDUARDO': 1,\n",
       " 'HERRERA GARCIA ADRIANA HORTENCIA': 1,\n",
       " 'TIJERINA GOMEZ LUCAS OCTAVIO': 1,\n",
       " 'GARCIA ORTIZ ALMA ALICIA': 1,\n",
       " 'LARA SALAZAR LUZ ADRIANA': 1,\n",
       " 'RAMIREZ ORTIZ RAQUEL ADELA': 1,\n",
       " 'PEREZ FLORES MARIA DEL ROSARIO': 1,\n",
       " 'GONZALEZ SALINAS ALAN GERARDO': 1,\n",
       " 'GARCIA ALEJANDRO ANALY': 1,\n",
       " 'FORTERRA, S.A. DE C.V.': 1,\n",
       " 'CONSTRUCCIONES Y URBANIZACIONES VILLA, S.A. DE C.V.': 1,\n",
       " 'CONSTRUCTORA Y ARRENDADORA SAN SEBASTIAN, S.A. DE C.V.': 1,\n",
       " 'TREVIÑO CORREA VALENTIN MARCELO': 1,\n",
       " 'PRODUCTORA PROCESADORA AGRICOLA DE MEXICO S.A DE C.V.': 1,\n",
       " 'TOOLS & SERVICES DE MEXICO, S.A. DE C.V.': 1,\n",
       " 'SOLUCIONES Y OPCIONES DE SEGURIDAD PRIVADA,S.A.DE C.V.': 1,\n",
       " 'RED RECOLECTOR, S.A. DE C.V.': 1,\n",
       " 'CHAO CASTRUITA CARMEN': 1,\n",
       " 'TORRES RANGEL ANA MARIA': 1,\n",
       " 'RODRIGUEZ ONTIVEROS GLORIA ISABEL': 1,\n",
       " 'PADILLA QUINTANILLA RUBI': 1,\n",
       " 'PEREZ IBARRA ROLANDO ED MISAEL': 1,\n",
       " 'RESTAURANTES TOKS. SA. DE CV.': 1,\n",
       " 'RODRIGUEZ AGUIRRE LIBRADO': 1,\n",
       " 'RODRIGUEZ GOMEZ PAMELA': 1,\n",
       " 'SALAS HERNANDEZ ROBERTO KEVIN': 1,\n",
       " 'TRANSPORTES PROGRESO, SA.': 1,\n",
       " 'VELA GONZALEZ OCTAVIO': 1,\n",
       " 'VERGARA CASTELLANOS BALDEMAR ALEJANDRO': 1,\n",
       " 'VILLARREAL DE LEON BERTHA': 1,\n",
       " 'ALIANZA AUTOMOTRIZ RIVERO, SA. DE CV.': 1,\n",
       " 'CANO ZAPATA NATALIA': 1,\n",
       " 'CORPUS MORALES CLAUDIA': 1,\n",
       " 'ESTRADA CASTILLO HILDA LETICIA': 1,\n",
       " 'GARCIA REYES ANA MARIA': 1,\n",
       " 'GONZALEZ CORREA DOLORES DEL CARMEN': 1,\n",
       " 'GONZALEZ SANCHEZ MARIA DE LA LUZ': 1,\n",
       " 'INSTITUTO DE CONTROL VEHICULAR': 1,\n",
       " 'LOMAS LOZANO CLAUDIA PATRICIA': 1,\n",
       " 'MADERA HOLTEN MARIA TERESA': 1,\n",
       " 'MORENO MARTINEZ SONIA': 1,\n",
       " 'OLDER GARCIA CARLOS ALBERTO': 1,\n",
       " 'TOVAR CEDILLO JAVIER ALFONSO': 1}"
      ]
     },
     "execution_count": 32,
     "metadata": {},
     "output_type": "execute_result"
    }
   ],
   "source": [
    "beneficiario_sales"
   ]
  },
  {
   "cell_type": "code",
   "execution_count": 10,
   "id": "3c8ae679",
   "metadata": {},
   "outputs": [
    {
     "data": {
      "text/plain": [
       "['CAMARA MEXICANA DE LA INDUSTRIA DE LA CONSTRUCCION',\n",
       " 'AUTOKAM REGIOMONTANA,S.A.DE C.V.',\n",
       " 'CAR ONE MONTERREY, S.A. DE C.V.',\n",
       " 'PEREZ RIOS RAMIRO',\n",
       " 'S.I.M.E.P.R.O.D.E.']"
      ]
     },
     "execution_count": 10,
     "metadata": {},
     "output_type": "execute_result"
    }
   ],
   "source": [
    "list(beneficiario_sales.keys())[0:5]"
   ]
  },
  {
   "cell_type": "code",
   "execution_count": 11,
   "id": "7c6ef6db",
   "metadata": {},
   "outputs": [],
   "source": [
    "compras_df['BENEFICIARIO_SALES'] = compras_df['BENEFICIARIO'].apply(lambda x: beneficiario_sales[x]) # va a agregar la cantidad que se repite el beneficiacio en la columna"
   ]
  },
  {
   "cell_type": "code",
   "execution_count": 34,
   "id": "5659be38",
   "metadata": {},
   "outputs": [
    {
     "data": {
      "text/plain": [
       "0       LLANTAS Y SERVICIOS SERNA ANAHUAC,S.A. DE C.V.\n",
       "1       LLANTAS Y SERVICIOS SERNA ANAHUAC,S.A. DE C.V.\n",
       "2       LLANTAS Y SERVICIOS SERNA ANAHUAC,S.A. DE C.V.\n",
       "3       LLANTAS Y SERVICIOS SERNA ANAHUAC,S.A. DE C.V.\n",
       "4       LLANTAS Y SERVICIOS SERNA ANAHUAC,S.A. DE C.V.\n",
       "                             ...                      \n",
       "1535                              SEGOVIA PAEZ MARCELO\n",
       "1536                              SEGOVIA PAEZ MARCELO\n",
       "1537                      TORRES ACOSTA ROBERTO CARLOS\n",
       "1538                      TOVAR CEDILLO JAVIER ALFONSO\n",
       "1539                  VILLARREAL CARDENAS NANCY ESTHER\n",
       "Name: BENEFICIARIO, Length: 1540, dtype: object"
      ]
     },
     "execution_count": 34,
     "metadata": {},
     "output_type": "execute_result"
    }
   ],
   "source": [
    "compras_df['BENEFICIARIO']"
   ]
  },
  {
   "cell_type": "code",
   "execution_count": 41,
   "id": "21a16d2a",
   "metadata": {},
   "outputs": [
    {
     "data": {
      "text/plain": [
       "13"
      ]
     },
     "execution_count": 41,
     "metadata": {},
     "output_type": "execute_result"
    }
   ],
   "source": [
    "beneficiario_sales.get('LLANTAS Y SERVICIOS SERNA ANAHUAC,S.A. DE C.V.')"
   ]
  },
  {
   "cell_type": "code",
   "execution_count": 33,
   "id": "37da3248",
   "metadata": {},
   "outputs": [
    {
     "data": {
      "text/plain": [
       "0       13\n",
       "1       13\n",
       "2       13\n",
       "3       13\n",
       "4       13\n",
       "        ..\n",
       "1535     2\n",
       "1536     2\n",
       "1537     2\n",
       "1538     1\n",
       "1539     2\n",
       "Name: BENEFICIARIO_SALES, Length: 1540, dtype: int64"
      ]
     },
     "execution_count": 33,
     "metadata": {},
     "output_type": "execute_result"
    }
   ],
   "source": [
    "compras_df['BENEFICIARIO_SALES']"
   ]
  },
  {
   "cell_type": "code",
   "execution_count": 12,
   "id": "bd5cfe7b",
   "metadata": {},
   "outputs": [],
   "source": [
    "sheet_mean_compras = compras_df.groupby('SHEET')['IMPORTE'].mean()"
   ]
  },
  {
   "cell_type": "code",
   "execution_count": 13,
   "id": "ba68c471",
   "metadata": {},
   "outputs": [
    {
     "data": {
      "text/plain": [
       "SHEET\n",
       "COMUNICACION              109705.343662\n",
       "CONTRATISTAS Y FDO FED    474566.765787\n",
       "GASTOS VARIOS             881659.731797\n",
       "SERV PPROF                229592.166667\n",
       "SERV. PERS.                59623.405217\n",
       "Name: IMPORTE, dtype: float64"
      ]
     },
     "execution_count": 13,
     "metadata": {},
     "output_type": "execute_result"
    }
   ],
   "source": [
    "sheet_mean_compras"
   ]
  },
  {
   "cell_type": "code",
   "execution_count": 14,
   "id": "4b8810d8",
   "metadata": {},
   "outputs": [
    {
     "data": {
      "text/plain": [
       "{'COMUNICACION': 109705.34366197183,\n",
       " 'CONTRATISTAS Y FDO FED': 474566.76578729285,\n",
       " 'GASTOS VARIOS': 881659.7317971016,\n",
       " 'SERV PPROF': 229592.16666666666,\n",
       " 'SERV. PERS.': 59623.40521739131}"
      ]
     },
     "execution_count": 14,
     "metadata": {},
     "output_type": "execute_result"
    }
   ],
   "source": [
    "sheet_mean_compras.to_dict()"
   ]
  },
  {
   "cell_type": "code",
   "execution_count": 15,
   "id": "11d6386c",
   "metadata": {},
   "outputs": [],
   "source": [
    "compras_df['IMPORTE_GASTO_PROMEDIO'] = compras_df['SHEET'].apply(lambda x: sheet_mean_compras[x]) "
   ]
  },
  {
   "cell_type": "markdown",
   "id": "9d22918a",
   "metadata": {},
   "source": [
    "## Traernos informacion externa, enriquecer los datos usando una tool de paginas de linkedin"
   ]
  },
  {
   "cell_type": "code",
   "execution_count": 16,
   "id": "b39ff930",
   "metadata": {},
   "outputs": [],
   "source": [
    "pd.DataFrame(compras_df['BENEFICIARIO'].unique()).to_csv('data/unique_beneficiarios.csv', index=None)"
   ]
  },
  {
   "cell_type": "code",
   "execution_count": 17,
   "id": "1be222e5",
   "metadata": {},
   "outputs": [],
   "source": [
    "#Cargar\n",
    "linkedin_mty = pd.read_csv('data/linkedin_mty.csv')"
   ]
  },
  {
   "cell_type": "code",
   "execution_count": 18,
   "id": "16b03f36",
   "metadata": {},
   "outputs": [],
   "source": [
    "has_site = {}\n",
    "for i, ele in linkedin_mty.fillna(True).iterrows():\n",
    "    has_site[ele['query']] = True if ele['error'] == True else False"
   ]
  },
  {
   "cell_type": "code",
   "execution_count": 19,
   "id": "722217e6",
   "metadata": {},
   "outputs": [],
   "source": [
    "compras_df['HAS_LINKEDIN_SITE'] = compras_df['BENEFICIARIO'].apply(lambda x: has_site[x.replace('  ', ' ')])"
   ]
  },
  {
   "cell_type": "code",
   "execution_count": 20,
   "id": "87a3b4d9",
   "metadata": {},
   "outputs": [
    {
     "data": {
      "text/plain": [
       "0       True\n",
       "1       True\n",
       "2       True\n",
       "3       True\n",
       "4       True\n",
       "        ... \n",
       "1535    True\n",
       "1536    True\n",
       "1537    True\n",
       "1538    True\n",
       "1539    True\n",
       "Name: HAS_LINKEDIN_SITE, Length: 1540, dtype: bool"
      ]
     },
     "execution_count": 20,
     "metadata": {},
     "output_type": "execute_result"
    }
   ],
   "source": [
    "compras_df['HAS_LINKEDIN_SITE'] "
   ]
  },
  {
   "cell_type": "code",
   "execution_count": 21,
   "id": "09f007c2",
   "metadata": {},
   "outputs": [
    {
     "data": {
      "text/plain": [
       "HAS_LINKEDIN_SITE\n",
       "True     1392\n",
       "False     148\n",
       "Name: count, dtype: int64"
      ]
     },
     "execution_count": 21,
     "metadata": {},
     "output_type": "execute_result"
    }
   ],
   "source": [
    "compras_df['HAS_LINKEDIN_SITE'].value_counts()"
   ]
  },
  {
   "cell_type": "code",
   "execution_count": 22,
   "id": "20e7e2e1",
   "metadata": {},
   "outputs": [],
   "source": [
    "compras_df.to_csv('data/compras_df_enriched.csv', index=None)"
   ]
  }
 ],
 "metadata": {
  "kernelspec": {
   "display_name": "Python 3",
   "language": "python",
   "name": "python3"
  },
  "language_info": {
   "codemirror_mode": {
    "name": "ipython",
    "version": 3
   },
   "file_extension": ".py",
   "mimetype": "text/x-python",
   "name": "python",
   "nbconvert_exporter": "python",
   "pygments_lexer": "ipython3",
   "version": "3.11.7"
  }
 },
 "nbformat": 4,
 "nbformat_minor": 5
}
